{
 "cells": [
  {
   "cell_type": "code",
   "execution_count": null,
   "metadata": {},
   "outputs": [],
   "source": [
    "import os\n",
    "TEMP_DIR='temp'\n",
    "\n",
    "os.getcwd()"
   ]
  },
  {
   "cell_type": "code",
   "execution_count": 6,
   "metadata": {},
   "outputs": [
    {
     "data": {
      "text/plain": [
       "True"
      ]
     },
     "execution_count": 6,
     "metadata": {},
     "output_type": "execute_result"
    }
   ],
   "source": [
    "os.path.exists(TEMP_DIR)"
   ]
  },
  {
   "cell_type": "code",
   "execution_count": 5,
   "metadata": {},
   "outputs": [],
   "source": [
    "if not os.path.exists(TEMP_DIR):\n",
    "    os.mkdir(TEMP_DIR)"
   ]
  },
  {
   "cell_type": "code",
   "execution_count": 9,
   "metadata": {},
   "outputs": [
    {
     "data": {
      "text/plain": [
       "os.stat_result(st_mode=33206, st_ino=3659174697413704, st_dev=3227355382, st_nlink=1, st_uid=0, st_gid=0, st_size=302, st_atime=1669731586, st_mtime=1667908374, st_ctime=1667908262)"
      ]
     },
     "execution_count": 9,
     "metadata": {},
     "output_type": "execute_result"
    }
   ],
   "source": [
    "filename=\"labhello.py\"\n",
    "f=os.stat(filename)\n",
    "f"
   ]
  },
  {
   "cell_type": "code",
   "execution_count": 10,
   "metadata": {},
   "outputs": [
    {
     "name": "stdout",
     "output_type": "stream",
     "text": [
      "302\n",
      "302\n"
     ]
    }
   ],
   "source": [
    "print(f.st_size)\n",
    "print(os.path.getsize(filename))"
   ]
  },
  {
   "cell_type": "code",
   "execution_count": 13,
   "metadata": {},
   "outputs": [
    {
     "data": {
      "text/plain": [
       "'f:\\\\Stuff\\\\Documents\\\\Учеба'"
      ]
     },
     "execution_count": 13,
     "metadata": {},
     "output_type": "execute_result"
    }
   ],
   "source": [
    "os.chdir('..')\n",
    "os.getcwd()"
   ]
  },
  {
   "cell_type": "code",
   "execution_count": 14,
   "metadata": {},
   "outputs": [
    {
     "data": {
      "text/plain": [
       "'f:\\\\'"
      ]
     },
     "execution_count": 14,
     "metadata": {},
     "output_type": "execute_result"
    }
   ],
   "source": [
    "os.chdir('f:\\\\')\n",
    "os.getcwd()"
   ]
  },
  {
   "cell_type": "code",
   "execution_count": 15,
   "metadata": {},
   "outputs": [
    {
     "data": {
      "text/plain": [
       "['$RECYCLE.BIN',\n",
       " '.Trash-1000',\n",
       " 'Anaconda',\n",
       " 'Apps',\n",
       " 'found.000',\n",
       " 'Games',\n",
       " 'Output',\n",
       " 'Steam',\n",
       " 'SteamLibrary',\n",
       " 'Stuff',\n",
       " 'Stuff 2',\n",
       " 'Symlinks',\n",
       " 'System Volume Information',\n",
       " 'W2xExTmp']"
      ]
     },
     "execution_count": 15,
     "metadata": {},
     "output_type": "execute_result"
    }
   ],
   "source": [
    "os.listdir()"
   ]
  },
  {
   "cell_type": "code",
   "execution_count": 22,
   "metadata": {},
   "outputs": [
    {
     "name": "stdout",
     "output_type": "stream",
     "text": [
      ". ['$RECYCLE.BIN', '.Trash-1000', 'Anaconda', 'Apps', 'found.000', 'Games', 'Output', 'Steam', 'SteamLibrary', 'Stuff', 'Stuff 2', 'Symlinks', 'System Volume Information', 'W2xExTmp'] []\n",
      ".\\$RECYCLE.BIN ['S-1-5-21-1482872955-3569544570-3760393657-1001', 'S-1-5-21-3624006700-3508735441-3358822249-1001'] []\n"
     ]
    }
   ],
   "source": [
    "i=0\n",
    "for current_dir,dirs,files in os.walk(\".\"):\n",
    "    i+=1\n",
    "    print(current_dir, dirs, files)\n",
    "    if i==2: break"
   ]
  },
  {
   "cell_type": "code",
   "execution_count": 27,
   "metadata": {},
   "outputs": [
    {
     "name": "stdout",
     "output_type": "stream",
     "text": [
      "f:\\ ['$RECYCLE.BIN', '.Trash-1000', 'Anaconda', 'Apps', 'found.000', 'Games', 'Output', 'Steam', 'SteamLibrary', 'Stuff', 'Stuff 2', 'Symlinks', 'System Volume Information', 'W2xExTmp']\n",
      "f:\\$RECYCLE.BIN ['S-1-5-21-1482872955-3569544570-3760393657-1001', 'S-1-5-21-3624006700-3508735441-3358822249-1001']\n",
      "f:\\$RECYCLE.BIN\\S-1-5-21-3624006700-3508735441-3358822249-1001 ['$R0JOFNL', '$R0O82UE', '$R0Y46G7', '$R24EH1M', '$R3G62OI', '$R3JRNMC', '$R3WLAW2', '$R4DG7UG', '$R4K8DLY', '$R58T5ZT', '$R5TKP77', '$R7PHBB1', '$R8BTP7Q', '$R9CYGXW', '$RA9WR2N', '$RAKC7G9.build', '$RAQLBKR', '$RC5FWPH.sync', '$RCEQMYH', '$RCKEGYL', '$RDD156M.py', '$RDD7ZIB', '$RF0DSNK', '$RG2AJFB', '$RGA69AK.build', '$RGAJ03D', '$RHTRET3', '$RJQWPIQ.py', '$RKV6NGU', '$RMXGGVW', '$RN16QSK', '$RO6MOTY', '$ROHFK7G', '$ROHGGZA.build', '$RP1OHOU', '$RPWYIHQ', '$RQYT3N6', '$RRMFRJF.build', '$RTKETCX', '$RTO48CJ', '$RUECY78', '$RUS4RGQ', '$RUV56JE', '$RWZOSED', '$RX8LDSQ']\n",
      "f:\\$RECYCLE.BIN\\S-1-5-21-3624006700-3508735441-3358822249-1001\\$R0JOFNL []\n",
      "f:\\$RECYCLE.BIN\\S-1-5-21-3624006700-3508735441-3358822249-1001\\$R0O82UE []\n",
      "f:\\$RECYCLE.BIN\\S-1-5-21-3624006700-3508735441-3358822249-1001\\$R0Y46G7 ['2022-09-05', 'tmp']\n",
      "f:\\$RECYCLE.BIN\\S-1-5-21-3624006700-3508735441-3358822249-1001\\$R0Y46G7\\2022-09-05 []\n",
      "f:\\$RECYCLE.BIN\\S-1-5-21-3624006700-3508735441-3358822249-1001\\$R0Y46G7\\tmp []\n",
      "f:\\$RECYCLE.BIN\\S-1-5-21-3624006700-3508735441-3358822249-1001\\$R24EH1M ['tmp']\n",
      "f:\\$RECYCLE.BIN\\S-1-5-21-3624006700-3508735441-3358822249-1001\\$R24EH1M\\tmp []\n"
     ]
    }
   ],
   "source": [
    "i=0\n",
    "for current_dir,dirs,files in os.walk(\".\"):\n",
    "    i+=1\n",
    "    print(os.path.abspath(current_dir), dirs)\n",
    "    if i==10: break"
   ]
  },
  {
   "cell_type": "code",
   "execution_count": 29,
   "metadata": {},
   "outputs": [
    {
     "name": "stdout",
     "output_type": "stream",
     "text": [
      "14 0 .\n",
      "2 0 .\\$RECYCLE.BIN\n",
      "45 3193 .\\$RECYCLE.BIN\\S-1-5-21-3624006700-3508735441-3358822249-1001\n",
      "0 6 .\\$RECYCLE.BIN\\S-1-5-21-3624006700-3508735441-3358822249-1001\\$R0JOFNL\n",
      "0 0 .\\$RECYCLE.BIN\\S-1-5-21-3624006700-3508735441-3358822249-1001\\$R0O82UE\n",
      "2 0 .\\$RECYCLE.BIN\\S-1-5-21-3624006700-3508735441-3358822249-1001\\$R0Y46G7\n",
      "0 1 .\\$RECYCLE.BIN\\S-1-5-21-3624006700-3508735441-3358822249-1001\\$R0Y46G7\\2022-09-05\n",
      "0 1 .\\$RECYCLE.BIN\\S-1-5-21-3624006700-3508735441-3358822249-1001\\$R0Y46G7\\tmp\n",
      "1 0 .\\$RECYCLE.BIN\\S-1-5-21-3624006700-3508735441-3358822249-1001\\$R24EH1M\n",
      "0 1 .\\$RECYCLE.BIN\\S-1-5-21-3624006700-3508735441-3358822249-1001\\$R24EH1M\\tmp\n"
     ]
    }
   ],
   "source": [
    "i=0\n",
    "for current_dir,dirs,files in os.walk(\".\"):\n",
    "    i+=1\n",
    "    print(len(dirs), len(files), current_dir)\n",
    "    if i==10: break"
   ]
  },
  {
   "cell_type": "code",
   "execution_count": 30,
   "metadata": {},
   "outputs": [
    {
     "name": "stdout",
     "output_type": "stream",
     "text": [
      "nt\n",
      "nkshv\n",
      "8\n"
     ]
    }
   ],
   "source": [
    "print(os.name)\n",
    "print(os.getlogin())\n",
    "print(os.cpu_count())"
   ]
  }
 ],
 "metadata": {
  "kernelspec": {
   "display_name": "Python 3.11.0 64-bit",
   "language": "python",
   "name": "python3"
  },
  "language_info": {
   "codemirror_mode": {
    "name": "ipython",
    "version": 3
   },
   "file_extension": ".py",
   "mimetype": "text/x-python",
   "name": "python",
   "nbconvert_exporter": "python",
   "pygments_lexer": "ipython3",
   "version": "3.11.0"
  },
  "orig_nbformat": 4,
  "vscode": {
   "interpreter": {
    "hash": "a58fdbb820b6388dabb363d08e88706fd2ada4afdea43b7e9668847127041129"
   }
  }
 },
 "nbformat": 4,
 "nbformat_minor": 2
}
