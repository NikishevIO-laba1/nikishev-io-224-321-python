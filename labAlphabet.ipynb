{
  "cells": [
    {
      "cell_type": "markdown",
      "metadata": {
        "id": "2D4jxttlbGyr"
      },
      "source": [
        "# HW\n",
        "- вывести алвавит в прямом и обратном порядке, несколькими способами"
      ]
    },
    {
      "cell_type": "code",
      "execution_count": 2,
      "metadata": {
        "colab": {
          "base_uri": "https://localhost:8080/"
        },
        "id": "UPdVV9N3bEf4",
        "outputId": "89174f36-4380-4e26-ae56-ca56c08fcb0d"
      },
      "outputs": [
        {
          "name": "stdout",
          "output_type": "stream",
          "text": [
            "97\n",
            "122\n",
            "ы\n"
          ]
        }
      ],
      "source": [
        "print(ord('a'))\n",
        "print(ord('z'))\n",
        "print(chr(1099))"
      ]
    },
    {
      "cell_type": "code",
      "execution_count": 9,
      "metadata": {
        "colab": {
          "base_uri": "https://localhost:8080/"
        },
        "id": "Wxn8PUX3bLzk",
        "outputId": "0e8eabc7-234f-4455-e878-2e7be264c974"
      },
      "outputs": [
        {
          "name": "stdout",
          "output_type": "stream",
          "text": [
            "a b c d e f g h i j k l m n o p q r s t u v w x y z \n",
            "z y x w v u t s r q p o n m l k j i h g f e d c b a \n",
            "а б в г д е ж з и й к л м н о п р с т у ф х ц ч ш щ ъ ы ь э ю я \n",
            "я ю э ь ы ъ щ ш ч ц х ф у т с р п о н м л к й и з ж е д г в б а "
          ]
        }
      ],
      "source": [
        "for i in range(97, 123): print(chr(i), end=\" \")\n",
        "print()\n",
        "for i in range(122, 96, -1): print(chr(i), end=\" \")\n",
        "print()\n",
        "for i in range(1072, 1104): print(chr(i), end=\" \")\n",
        "print()\n",
        "for i in range(1103, 1071, -1): print(chr(i), end=\" \")"
      ]
    },
    {
      "cell_type": "code",
      "execution_count": 12,
      "metadata": {
        "colab": {
          "base_uri": "https://localhost:8080/"
        },
        "id": "5QJ_VUeKcF7X",
        "outputId": "f929dd39-58f6-4f27-80e6-d69a71443a84"
      },
      "outputs": [
        {
          "name": "stdout",
          "output_type": "stream",
          "text": [
            "a b c d e f g h i j k l m n o p q r s t u v w x y z \n",
            "z y x w v u t s r q p o n m l k j i h g f e d c b a \n",
            "а б в г д е ж з и й к л м н о п р с т у ф х ц ч ш щ ъ ы ь э ю я \n",
            "я ю э ь ы ъ щ ш ч ц х ф у т с р п о н м л к й и з ж е д г в б а "
          ]
        }
      ],
      "source": [
        "for i in range(ord('a'), ord('z')+1): print(chr(i), end=\" \")\n",
        "print()\n",
        "for i in range(ord('z'), ord('a')-1, -1): print(chr(i), end=\" \")\n",
        "print()\n",
        "for i in range(ord('а'), ord('я')+1): print(chr(i), end=\" \")\n",
        "print()\n",
        "for i in range(ord('я'), ord('а')-1, -1): print(chr(i), end=\" \")"
      ]
    },
    {
      "cell_type": "code",
      "execution_count": 13,
      "metadata": {
        "colab": {
          "base_uri": "https://localhost:8080/"
        },
        "id": "gYm9aE0mc_Cs",
        "outputId": "f1e60054-9102-4909-8795-8c68dec92913"
      },
      "outputs": [
        {
          "name": "stdout",
          "output_type": "stream",
          "text": [
            "a b c d e f g h i j k l m n o p q r s t u v w x y z\n",
            "z y x w v u t s r q p o n m l k j i h g f e d c b a \n",
            "а б в г д е ж з и й к л м н о п р с т у ф х ц ч ш щ ъ ы ь э ю я \n",
            "я ю э ь ы ъ щ ш ч ц х ф у т с р п о н м л к й и з ж е д г в б а \n"
          ]
        }
      ],
      "source": [
        "print('a b c d e f g h i j k l m n o p q r s t u v w x y z')\n",
        "print('z y x w v u t s r q p o n m l k j i h g f e d c b a ')\n",
        "print('а б в г д е ж з и й к л м н о п р с т у ф х ц ч ш щ ъ ы ь э ю я ')\n",
        "print('я ю э ь ы ъ щ ш ч ц х ф у т с р п о н м л к й и з ж е д г в б а ')"
      ]
    },
    {
      "cell_type": "code",
      "execution_count": 6,
      "metadata": {
        "colab": {
          "base_uri": "https://localhost:8080/"
        },
        "id": "QOWX3H7HdX5k",
        "outputId": "7b3cdc74-ade7-4f94-8a35-48d538b23906"
      },
      "outputs": [
        {
          "name": "stdout",
          "output_type": "stream",
          "text": [
            "a b c d e f g h i j k l m n o p q r s t u v w x y z\n",
            "z y x w v u t s r q p o n m l k j i h g f e d c b a\n",
            "а б в г д е ж з и й к л м н о п р с т у ф х ц ч ш щ ъ ы ь э ю я\n",
            "я ю э ь ы ъ щ ш ч ц х ф у т с р п о н м л к й и з ж е д г в б а\n"
          ]
        }
      ],
      "source": [
        "print(' '.join(list(map(chr, range(ord('a'), ord('z')+1)))))\n",
        "print(' '.join(list(map(chr, range(ord('z'), ord('a')-1, -1)))))\n",
        "print(' '.join(list(map(chr, range(ord('а'), ord('я')+1)))))\n",
        "print(' '.join(list(map(chr, range(ord('я'), ord('а')-1, -1)))))"
      ]
    }
  ],
  "metadata": {
    "colab": {
      "collapsed_sections": [],
      "provenance": []
    },
    "kernelspec": {
      "display_name": "Python 3.11.0 64-bit",
      "language": "python",
      "name": "python3"
    },
    "language_info": {
      "name": "python",
      "version": "3.11.0 (main, Oct 24 2022, 18:26:48) [MSC v.1933 64 bit (AMD64)]"
    },
    "vscode": {
      "interpreter": {
        "hash": "a58fdbb820b6388dabb363d08e88706fd2ada4afdea43b7e9668847127041129"
      }
    }
  },
  "nbformat": 4,
  "nbformat_minor": 0
}
