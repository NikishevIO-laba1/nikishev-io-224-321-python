{
 "cells": [
  {
   "cell_type": "markdown",
   "metadata": {},
   "source": [
    "# изменяемое множество (set)\n",
    "Неупорядоченное с уникальными элементами\n",
    "- (...)\n",
    "- set(...)"
   ]
  },
  {
   "cell_type": "code",
   "execution_count": 20,
   "metadata": {},
   "outputs": [
    {
     "data": {
      "text/plain": [
       "{'e', 'q', 'r', 't', 'u', 'w', 'y'}"
      ]
     },
     "execution_count": 20,
     "metadata": {},
     "output_type": "execute_result"
    }
   ],
   "source": [
    "v=set('qwertyqertyu')\n",
    "v"
   ]
  },
  {
   "cell_type": "code",
   "execution_count": 11,
   "metadata": {},
   "outputs": [
    {
     "data": {
      "text/plain": [
       "{1, 2, 3, 4}"
      ]
     },
     "execution_count": 11,
     "metadata": {},
     "output_type": "execute_result"
    }
   ],
   "source": [
    "set([4, 4, 4, 3, 2, 1])"
   ]
  },
  {
   "cell_type": "code",
   "execution_count": 5,
   "metadata": {},
   "outputs": [
    {
     "data": {
      "text/plain": [
       "{0, 1, 2, 3, 4}"
      ]
     },
     "execution_count": 5,
     "metadata": {},
     "output_type": "execute_result"
    }
   ],
   "source": [
    "set(range(5))"
   ]
  },
  {
   "cell_type": "code",
   "execution_count": 16,
   "metadata": {},
   "outputs": [
    {
     "name": "stdout",
     "output_type": "stream",
     "text": [
      "['Воронеж', 'Орёл', 'Тула', 'Воронеж', 'Тула']\n",
      "{'Орёл', 'Тула', 'Воронеж'}\n",
      "('Воронеж', 'Орёл', 'Тула', 'Воронеж', 'Тула')\n",
      "('Орёл', 'Тула', 'Воронеж')\n"
     ]
    }
   ],
   "source": [
    "cities=[\"Воронеж\", \"Орёл\", \"Тула\", \"Воронеж\", 'Тула',]\n",
    "print(cities)\n",
    "print(set(cities))\n",
    "print(tuple(cities))\n",
    "print(tuple(set(cities)))\n"
   ]
  },
  {
   "cell_type": "markdown",
   "metadata": {},
   "source": [
    "## Проверить вхождение элементов в множество"
   ]
  },
  {
   "cell_type": "code",
   "execution_count": 19,
   "metadata": {},
   "outputs": [
    {
     "name": "stdout",
     "output_type": "stream",
     "text": [
      "True\n",
      "False\n"
     ]
    }
   ],
   "source": [
    "v=set( range(5))\n",
    "print(4 in v)\n",
    "print(5 in v)"
   ]
  },
  {
   "cell_type": "code",
   "execution_count": 26,
   "metadata": {},
   "outputs": [
    {
     "name": "stdout",
     "output_type": "stream",
     "text": [
      "select in rights\n",
      "право updtae\n",
      "право select\n",
      "право delete\n",
      "право insert\n"
     ]
    }
   ],
   "source": [
    "rights={'insert','updtae','delete'}\n",
    "rights.add('select')\n",
    "rights\n",
    "if 'select' in rights: print('select in rights')\n",
    "for i in rights: print(f'право {i}')"
   ]
  },
  {
   "cell_type": "markdown",
   "metadata": {},
   "source": [
    "# operации с множествами"
   ]
  },
  {
   "cell_type": "code",
   "execution_count": 41,
   "metadata": {},
   "outputs": [
    {
     "name": "stdout",
     "output_type": "stream",
     "text": [
      "True\n",
      "True\n",
      "True\n",
      "{1, 2}\n",
      "{3, 4}\n",
      "{1, 2, 5, 6}\n"
     ]
    }
   ],
   "source": [
    "a={1,2,3,4}\n",
    "b={3,4,5,6,}\n",
    "c={3,4}\n",
    "d={7,8}\n",
    "\n",
    "print(a.isdisjoint(d))\n",
    "print(c<=a)\n",
    "print(c.issubset(a))\n",
    "print(a-b)\n",
    "print(a&b)\n",
    "print(a^b)"
   ]
  },
  {
   "cell_type": "code",
   "execution_count": 45,
   "metadata": {},
   "outputs": [
    {
     "name": "stdout",
     "output_type": "stream",
     "text": [
      "{'yes', 1, 2, 3, 4, 5, 6}\n"
     ]
    }
   ],
   "source": [
    "#объединить множества\n",
    "print(a|b|{'yes'})\n",
    "#a.remove(12) - error\n",
    "#a.discard(12) no errpr\n",
    "v= set(range(10,15))\n",
    "v.add(99)\n",
    "v.remove(11)"
   ]
  }
 ],
 "metadata": {
  "kernelspec": {
   "display_name": "Python 3.11.0 64-bit",
   "language": "python",
   "name": "python3"
  },
  "language_info": {
   "codemirror_mode": {
    "name": "ipython",
    "version": 3
   },
   "file_extension": ".py",
   "mimetype": "text/x-python",
   "name": "python",
   "nbconvert_exporter": "python",
   "pygments_lexer": "ipython3",
   "version": "3.11.0"
  },
  "orig_nbformat": 4,
  "vscode": {
   "interpreter": {
    "hash": "a58fdbb820b6388dabb363d08e88706fd2ada4afdea43b7e9668847127041129"
   }
  }
 },
 "nbformat": 4,
 "nbformat_minor": 2
}
