{
 "cells": [
  {
   "cell_type": "markdown",
   "metadata": {},
   "source": [
    "# whw"
   ]
  },
  {
   "cell_type": "code",
   "execution_count": 2,
   "metadata": {},
   "outputs": [],
   "source": [
    "from typing import Counter"
   ]
  },
  {
   "cell_type": "code",
   "execution_count": 3,
   "metadata": {},
   "outputs": [
    {
     "data": {
      "text/plain": [
       "Counter({'q': 2,\n",
       "         'w': 3,\n",
       "         'e': 3,\n",
       "         'r': 2,\n",
       "         '8': 1,\n",
       "         '7': 1,\n",
       "         't': 2,\n",
       "         '3': 1,\n",
       "         '6': 1,\n",
       "         '2': 1,\n",
       "         's': 2,\n",
       "         'c': 2,\n",
       "         'g': 2,\n",
       "         'd': 2,\n",
       "         'u': 2,\n",
       "         'y': 3,\n",
       "         'h': 1,\n",
       "         'x': 1,\n",
       "         'i': 2,\n",
       "         'o': 1})"
      ]
     },
     "execution_count": 3,
     "metadata": {},
     "output_type": "execute_result"
    }
   ],
   "source": [
    "c=Counter(\"qwereq87t362wscgduyhxicuwyrgedsoity\")\n",
    "c"
   ]
  }
 ],
 "metadata": {
  "kernelspec": {
   "display_name": "Python 3.11.0 64-bit",
   "language": "python",
   "name": "python3"
  },
  "language_info": {
   "codemirror_mode": {
    "name": "ipython",
    "version": 3
   },
   "file_extension": ".py",
   "mimetype": "text/x-python",
   "name": "python",
   "nbconvert_exporter": "python",
   "pygments_lexer": "ipython3",
   "version": "3.11.0"
  },
  "orig_nbformat": 4,
  "vscode": {
   "interpreter": {
    "hash": "a58fdbb820b6388dabb363d08e88706fd2ada4afdea43b7e9668847127041129"
   }
  }
 },
 "nbformat": 4,
 "nbformat_minor": 2
}
