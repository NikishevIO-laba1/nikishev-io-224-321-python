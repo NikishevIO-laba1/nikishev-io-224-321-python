{
 "cells": [
  {
   "cell_type": "markdown",
   "metadata": {},
   "source": [
    "# именные функции, инструкция def\n",
    "сигнатура функции\n",
    "тело функции\n",
    "параметры функции\n",
    "аргументы функции\n",
    "    * позиционные \n",
    "    * именнованные\n",
    "    * произвольное колв-о аргументов *\n",
    "    * произвольное колв-о именнованных аргументов **"
   ]
  },
  {
   "cell_type": "code",
   "execution_count": 7,
   "metadata": {},
   "outputs": [
    {
     "name": "stdout",
     "output_type": "stream",
     "text": [
      "a\n",
      "a\n",
      "a\n",
      "None\n"
     ]
    }
   ],
   "source": [
    "def a(a):print(a)\n",
    "a('a')\n",
    "a(a='a')"
   ]
  },
  {
   "cell_type": "code",
   "execution_count": 16,
   "metadata": {},
   "outputs": [
    {
     "name": "stdout",
     "output_type": "stream",
     "text": [
      "ab\n",
      "abb\n"
     ]
    }
   ],
   "source": [
    "def a(a:str,b='b'):return(a+b)\n",
    "print(a('a','b'))\n",
    "print(a(a('a','b')))\n"
   ]
  },
  {
   "cell_type": "code",
   "execution_count": 28,
   "metadata": {},
   "outputs": [
    {
     "name": "stdout",
     "output_type": "stream",
     "text": [
      "ab c d e\n",
      "ab ('c', 'd', 'e')\n"
     ]
    }
   ],
   "source": [
    "def a(a,b,*c):print(a+b,*c)\n",
    "a('a','b','c','d','e')\n",
    "def a(a,b,*c):print(a+b,c)\n",
    "a('a','b','c','d','e')"
   ]
  },
  {
   "cell_type": "code",
   "execution_count": 31,
   "metadata": {},
   "outputs": [
    {
     "name": "stdout",
     "output_type": "stream",
     "text": [
      "{'a': 'a', 'b': 'b'}\n",
      "a b\n"
     ]
    }
   ],
   "source": [
    "#kwargs-сокращение от\"keyword argument\"\n",
    "def a(**a):print(a)\n",
    "a(a='a', b='b')\n",
    "def a(**a):print(*a)\n",
    "a(a='a', b='b')"
   ]
  }
 ],
 "metadata": {
  "kernelspec": {
   "display_name": "Python 3.11.0 64-bit",
   "language": "python",
   "name": "python3"
  },
  "language_info": {
   "codemirror_mode": {
    "name": "ipython",
    "version": 3
   },
   "file_extension": ".py",
   "mimetype": "text/x-python",
   "name": "python",
   "nbconvert_exporter": "python",
   "pygments_lexer": "ipython3",
   "version": "3.11.0"
  },
  "orig_nbformat": 4,
  "vscode": {
   "interpreter": {
    "hash": "a58fdbb820b6388dabb363d08e88706fd2ada4afdea43b7e9668847127041129"
   }
  }
 },
 "nbformat": 4,
 "nbformat_minor": 2
}
