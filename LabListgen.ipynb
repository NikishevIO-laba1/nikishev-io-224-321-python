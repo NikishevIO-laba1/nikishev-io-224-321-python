{
 "cells": [
  {
   "cell_type": "markdown",
   "metadata": {},
   "source": [
    "# Генератор списков"
   ]
  },
  {
   "cell_type": "code",
   "execution_count": 1,
   "metadata": {},
   "outputs": [
    {
     "data": {
      "text/plain": [
       "range(0, 5)"
      ]
     },
     "execution_count": 1,
     "metadata": {},
     "output_type": "execute_result"
    }
   ],
   "source": [
    "range(5)"
   ]
  },
  {
   "cell_type": "code",
   "execution_count": 2,
   "metadata": {},
   "outputs": [
    {
     "name": "stdout",
     "output_type": "stream",
     "text": [
      "0 2 4 6 8\n"
     ]
    }
   ],
   "source": [
    "print(*range(0,10,2))"
   ]
  },
  {
   "cell_type": "code",
   "execution_count": 4,
   "metadata": {},
   "outputs": [
    {
     "data": {
      "text/plain": [
       "[0, 2, 4, 6, 8, 10, 12, 14, 16, 18]"
      ]
     },
     "execution_count": 4,
     "metadata": {},
     "output_type": "execute_result"
    }
   ],
   "source": [
    "[x*2 for x in range(10)]"
   ]
  },
  {
   "cell_type": "code",
   "execution_count": 6,
   "metadata": {},
   "outputs": [
    {
     "data": {
      "text/plain": [
       "[0, 5, 10, 15, 20, 25, 30, 35, 40, 45, 50, 55, 60, 65, 70, 75, 80, 85, 90, 95]"
      ]
     },
     "execution_count": 6,
     "metadata": {},
     "output_type": "execute_result"
    }
   ],
   "source": [
    "[x for x in range(100) if x%5==0]"
   ]
  },
  {
   "cell_type": "code",
   "execution_count": 7,
   "metadata": {},
   "outputs": [
    {
     "data": {
      "text/plain": [
       "['AAAAA', 'BB', 'CC', 'DDDDD', 'EE']"
      ]
     },
     "execution_count": 7,
     "metadata": {},
     "output_type": "execute_result"
    }
   ],
   "source": [
    "[x*5 if x in \"AD\" else x*2 for x in \"ABCDE\"]"
   ]
  },
  {
   "cell_type": "code",
   "execution_count": 8,
   "metadata": {},
   "outputs": [
    {
     "data": {
      "text/plain": [
       "[1010, 1011, 1012, 1013, 1014, 2010, 2011, 2012, 2013, 2014]"
      ]
     },
     "execution_count": 8,
     "metadata": {},
     "output_type": "execute_result"
    }
   ],
   "source": [
    "[x*1000 + y for x in range(1,3) for y in range(10,15)]"
   ]
  },
  {
   "cell_type": "code",
   "execution_count": 9,
   "metadata": {},
   "outputs": [
    {
     "data": {
      "text/plain": [
       "[0, 2, 4, 6, 8, 10, 12, 14, 16, 18]"
      ]
     },
     "execution_count": 9,
     "metadata": {},
     "output_type": "execute_result"
    }
   ],
   "source": [
    "[x*2 for x in range (10) if x*2%2==0]"
   ]
  },
  {
   "cell_type": "code",
   "execution_count": 10,
   "metadata": {},
   "outputs": [
    {
     "data": {
      "text/plain": [
       "[0, 2, 4, 6, 8, 10, 12, 14, 16, 18]"
      ]
     },
     "execution_count": 10,
     "metadata": {},
     "output_type": "execute_result"
    }
   ],
   "source": [
    "[z for x in range(10) if (z:=x*2)%2==0]"
   ]
  },
  {
   "cell_type": "code",
   "execution_count": 13,
   "metadata": {},
   "outputs": [
    {
     "data": {
      "text/plain": [
       "[0, 2, 4, 2, 4, 2, 4, 6, 4, 6, 4, 6, 8]"
      ]
     },
     "execution_count": 13,
     "metadata": {},
     "output_type": "execute_result"
    }
   ],
   "source": [
    "[z for x in range (5) for y in range(5) if (z:=x+y)%2==0]"
   ]
  },
  {
   "cell_type": "markdown",
   "metadata": {},
   "source": [
    "# HW\n",
    " из строки\n",
    "  - Вернуть список слов\n",
    "  - Вернуть список слов и рядом с каждым словом его длину в [ ]\n",
    "  - Вернуть список слов и рядом с каждым словом его порядковый номер в ( ) в предложении\n",
    "  - В каждом слове поменять регистр символов на противоположный\n",
    "  - В каждом слове поменять буквы местами на противоположный\n",
    "  - В каждом слове поменять буквы местами случайным образом\n",
    "  - В каждом слове первую и последнюю букву заменить на '_'\n",
    "  - В каждом слове заменить каждую букву на '_'\n",
    "  - В каждом слове заменить каждую букву на '_' если длина слова меньше 5 символов\n",
    "  - Каждую последнюю букву в слове с большой буквы\n",
    "  - Каждое второе слово написать большими буквами, а остальные слова маленькими\n",
    " \n",
    "  - Заменить все гласные буквы на '_'\n",
    "  - Поменять слова местами случайным образом\n",
    "  - Сформировать список слов отсортированных по количеству букв в каждом слове\n",
    "  - Сформировать список уникальных букв\n",
    "  - Сформировать список уникальных букв и их количество, (а может словарь)\n",
    "  - ...\n",
    "- придумать свои примеры по генерации списков\n"
   ]
  },
  {
   "cell_type": "code",
   "execution_count": 115,
   "metadata": {},
   "outputs": [
    {
     "name": "stdout",
     "output_type": "stream",
     "text": [
      "['Домашнее', 'задание', 'генератор', 'списков']\n",
      "[['Домашнее', 8], ['задание', 7], ['генератор', 9], ['списков', 7]]\n",
      "[('Домашнее', 0), ('задание', 1), ('генератор', 2), ('списков', 3)]\n",
      "['дОМАШНЕЕ', 'ЗАДАНИЕ', 'ГЕНЕРАТОР', 'СПИСКОВ']\n",
      "['ееншамоД', 'еинадаз', 'ротаренег', 'воксипс']\n",
      "['Дмнешаео', 'назиеад', 'нгереатор', 'ивсопск']\n",
      "['_омашне_', '_адани_', '_енерато_', '_писко_']\n",
      "['________', '_______', '_________', '_______']\n",
      "['Домашнее', 'задание', 'генератор', 'списков']\n",
      "['ДомашнеЕ', 'заданиЕ', 'генератоР', 'спискоВ']\n",
      "['Домашнее', 'ЗАДАНИЕ', 'генератор', 'СПИСКОВ']\n",
      "Д_м_шн__ з_д_н__ г_н_р_т_р сп_ск_в\n",
      "['генератор', 'задание', 'Домашнее', 'списков']\n",
      "['задание', 'списков', 'Домашнее', 'генератор']\n",
      "['р', 'з', 'г', 'и', 'в', 'Д', 'м', 'п', 'ш', 'н', 'е', 'д', 'т', 'а', ' ', 'с', 'о', 'к']\n",
      "{'р': 2, 'з': 1, 'г': 1, 'и': 2, 'в': 1, 'Д': 1, 'м': 1, 'п': 1, 'ш': 1, 'н': 3, 'е': 5, 'д': 1, 'т': 1, 'а': 4, ' ': 3, 'с': 2, 'о': 3, 'к': 1}\n",
      "оммааашшшшнннннеееееееееееее        зззззззззаааааааааадддддддддддаааааааааааанннннннннннннииииииииииииииеееееееееееееее                гггггггггггггггггеееееееееееееееееенннннннннннннннннннееееееееееееееееееееррррррррррррррррррррраааааааааааааааааааааатттттттттттттттттттттттооооооооооооооооооооооооррррррррррррррррррррррррр                          сссссссссссссссссссссссссссппппппппппппппппппппппппппппииииииииииииииииииииииииииииисссссссссссссссссссссссссссссскккккккккккккккккккккккккккккккооооооооооооооооооооооооооооооооввввввввввввввввввввввввввввввввв\n",
      "Д__а__е__з__а__е__е__р__о__с__с__в\n"
     ]
    }
   ],
   "source": [
    "a='Домашнее задание генератор списков'\n",
    "\n",
    "word_list=a.split(' ')\n",
    "print(word_list)\n",
    "\n",
    "word_list_with_length=list(map(list,zip(*([word_list]+[[len(i) for i in word_list]]))))\n",
    "print(word_list_with_length)\n",
    "\n",
    "word_list_with_index=list(zip(*([word_list]+[[*range(len(word_list))]])))\n",
    "print(word_list_with_index)\n",
    "\n",
    "inverse_case=a.swapcase().split(' ')\n",
    "print(inverse_case)\n",
    "\n",
    "reverse_words=[i[::-1] for i in word_list]\n",
    "print(reverse_words)\n",
    "\n",
    "import random\n",
    "random_words=[''.join(random.sample(i, len(i))) for i in word_list]\n",
    "print(random_words)\n",
    "\n",
    "first_last_letter_replaced=['_'+i[1:-1]+'_' if len(i)>1 else '_' for i in word_list]\n",
    "print(first_last_letter_replaced)\n",
    "\n",
    "all_letters_replaced=['_'*len(i) for i in word_list]\n",
    "print(all_letters_replaced)\n",
    "\n",
    "all_letters_replaced_if=['_'*len(i) if len(i)<5 else i for i in word_list]\n",
    "print(all_letters_replaced_if)\n",
    "\n",
    "last_letter_uppercase=[i[:-1]+i[-1].upper() for i in word_list]\n",
    "print(last_letter_uppercase)\n",
    "\n",
    "every_second=[word_list[i] if i%2==0 else word_list[i].upper() for i in range(len(word_list))]\n",
    "print(every_second)\n",
    "\n",
    "no_vowels=''.join(('_' if i in 'аеёиоуыэюяaeiouy' else i for i in a ))\n",
    "print(no_vowels)\n",
    "\n",
    "random.shuffle(word_list)\n",
    "print(word_list)\n",
    "\n",
    "length_sorted=sorted(word_list,key=len)\n",
    "print(length_sorted)\n",
    "\n",
    "unique=list(set(a))\n",
    "print(unique)\n",
    "\n",
    "unique_count=dict((i,a.count(i)) for i in unique)\n",
    "print(unique_count)\n",
    "\n",
    "# свои примеры\n",
    "hw=''.join(a[i]*i for i in range(len(a)))\n",
    "print(hw)\n",
    "every_third=''.join(a[i] if i%3==0 else '_' for i in range(len(a)))\n",
    "print(every_third)"
   ]
  },
  {
   "cell_type": "code",
   "execution_count": null,
   "metadata": {},
   "outputs": [],
   "source": []
  }
 ],
 "metadata": {
  "kernelspec": {
   "display_name": "Python 3.11.0 64-bit",
   "language": "python",
   "name": "python3"
  },
  "language_info": {
   "codemirror_mode": {
    "name": "ipython",
    "version": 3
   },
   "file_extension": ".py",
   "mimetype": "text/x-python",
   "name": "python",
   "nbconvert_exporter": "python",
   "pygments_lexer": "ipython3",
   "version": "3.11.0"
  },
  "orig_nbformat": 4,
  "vscode": {
   "interpreter": {
    "hash": "a58fdbb820b6388dabb363d08e88706fd2ada4afdea43b7e9668847127041129"
   }
  }
 },
 "nbformat": 4,
 "nbformat_minor": 2
}
