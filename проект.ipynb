{
 "cells": [
  {
   "attachments": {},
   "cell_type": "markdown",
   "metadata": {},
   "source": [
    "args, idk = getopt.getopt(sys.argv[1:],\"f:e:d:t:o:m:c:l:a:\",[\"folder=\",\"exclude=\",'depth=','filetypes=','output=', 'mode=','csv=','columns=','show='])\n"
   ]
  },
  {
   "cell_type": "code",
   "execution_count": 104,
   "metadata": {},
   "outputs": [
    {
     "name": "stdout",
     "output_type": "stream",
     "text": [
      "Начинаем\n",
      "Подключаемся к базе данных\n",
      "Смотрим файлы\n"
     ]
    },
    {
     "name": "stderr",
     "output_type": "stream",
     "text": [
      "9it [02:11, 14.58s/it]"
     ]
    },
    {
     "name": "stdout",
     "output_type": "stream",
     "text": [
      "Записываем изменения в базу данных.\n",
      "Операция завершена.\n"
     ]
    },
    {
     "name": "stderr",
     "output_type": "stream",
     "text": [
      "\n"
     ]
    }
   ],
   "source": [
    "%run -i audiodb -f \"F:\\Stuff\\Documents\\Учеба\\Python\\Новая папка\\mp2022_224-321_python-nikishev-i-o\\sounds\" -m \"update\" -e \"F:\\Stuff\\Documents\\Учеба\\Python\\Новая папка\\mp2022_224-321_python-nikishev-i-o\\sounds\\исключ\"  -d 2"
   ]
  },
  {
   "cell_type": "code",
   "execution_count": 2,
   "metadata": {},
   "outputs": [
    {
     "name": "stdout",
     "output_type": "stream",
     "text": [
      "Начинаем\n",
      "Подключаемся к базе данных\n",
      "Записывается .csv файл csv.csv\n"
     ]
    }
   ],
   "source": [
    "%run -i audiodb --csv=\"csv.csv\" --columns \"filename, size\""
   ]
  },
  {
   "cell_type": "code",
   "execution_count": 8,
   "metadata": {},
   "outputs": [
    {
     "name": "stdout",
     "output_type": "stream",
     "text": [
      "Начинаем\n",
      "Подключаемся к базе данных\n",
      "+----------+\n",
      "| COUNT(*) |\n",
      "+----------+\n",
      "|   426    |\n",
      "+----------+\n"
     ]
    }
   ],
   "source": [
    "%run -i audiodb --show \"SELECT COUNT(*) FROM audiofiles\""
   ]
  },
  {
   "cell_type": "code",
   "execution_count": 9,
   "metadata": {},
   "outputs": [
    {
     "name": "stdout",
     "output_type": "stream",
     "text": [
      "Начинаем\n",
      "Подключаемся к базе данных\n",
      "+--------------------------------------------------+-----------+\n",
      "|                     filename                     |    size   |\n",
      "+--------------------------------------------------+-----------+\n",
      "|        Bee Recording Devine 96k-24bit.wav        | 108288730 |\n",
      "|               Burning Embers4.wav                |  63587434 |\n",
      "|                 f1 f3 audio1.wav                 |  62587826 |\n",
      "|                 Snow Samples.aif                 |  37044570 |\n",
      "|            bells full TALreverb.flac             |  30269848 |\n",
      "|     bells full reverb lowdiff transient.flac     |  24374559 |\n",
      "|              bells full autom.flac               |  24151604 |\n",
      "| phenylacetate DIST AND COMPRESSOR RERELASASE.mp3 |  7398196  |\n",
      "|                future selves.mp3                 |  6988211  |\n",
      "|              Snares for export.wav               |  6583002  |\n",
      "+--------------------------------------------------+-----------+\n"
     ]
    }
   ],
   "source": [
    "%run -i audiodb --show \"SELECT filename, size FROM audiofiles ORDER BY size DESC LIMIT 10\""
   ]
  },
  {
   "cell_type": "code",
   "execution_count": 10,
   "metadata": {},
   "outputs": [
    {
     "name": "stdout",
     "output_type": "stream",
     "text": [
      "Начинаем\n",
      "Подключаемся к базе данных\n",
      "+--------------------------------------------------+------------+\n",
      "|                     filename                     |  duration  |\n",
      "+--------------------------------------------------+------------+\n",
      "|                  f2 sound2.mp3                   | 349.701224 |\n",
      "|      15 Sorting Algorithms in 6 Minutes.mp3      | 349.701224 |\n",
      "|                 f1 f1 sound1.mp3                 | 245.472653 |\n",
      "|                  f2 sound1.mp3                   | 229.407347 |\n",
      "|                    sound2.mp3                    |  184.872   |\n",
      "| phenylacetate DIST AND COMPRESSOR RERELASASE.mp3 |  184.824   |\n",
      "|                future selves.mp3                 |   174.6    |\n",
      "|                another stuff.mp3                 | 129.12325  |\n",
      "|                 f1 f1 sound2.mp3                 | 45.740408  |\n",
      "|            Microwave Sound Effect.mp3            | 45.426939  |\n",
      "+--------------------------------------------------+------------+\n"
     ]
    }
   ],
   "source": [
    "%run -i audiodb --show \"SELECT filename, duration FROM audiofiles WHERE format_name='mp3' ORDER BY duration DESC LIMIT 10\""
   ]
  },
  {
   "cell_type": "code",
   "execution_count": 55,
   "metadata": {},
   "outputs": [
    {
     "name": "stdout",
     "output_type": "stream",
     "text": [
      "Начинаем\n",
      "Подключаемся к базе данных\n",
      "Проигрывается превью Part1 piano no reverb.flac\n"
     ]
    }
   ],
   "source": [
    "%run -i audiodb --play \"Part1 piano no reverb.flac\""
   ]
  },
  {
   "cell_type": "code",
   "execution_count": 24,
   "metadata": {},
   "outputs": [
    {
     "name": "stdout",
     "output_type": "stream",
     "text": [
      "Начинаем\n",
      "Подключаемся к базе данных\n",
      "+------------------+-----------+\n",
      "|     filename     | TAG_title |\n",
      "+------------------+-----------+\n",
      "|    sound1.mp3    |  testname |\n",
      "| f1 f1 sound1.mp3 | testname2 |\n",
      "+------------------+-----------+\n"
     ]
    }
   ],
   "source": [
    "%run -i audiodb --show \"SELECT filename, TAG_title FROM audiofiles WHERE TAG_artist='test'\""
   ]
  },
  {
   "cell_type": "code",
   "execution_count": 26,
   "metadata": {},
   "outputs": [
    {
     "name": "stdout",
     "output_type": "stream",
     "text": [
      "Начинаем\n",
      "option --ip not recognized\n",
      "Подключаемся к базе данных\n"
     ]
    }
   ],
   "source": [
    "import audiodb as au"
   ]
  },
  {
   "cell_type": "code",
   "execution_count": 50,
   "metadata": {},
   "outputs": [
    {
     "name": "stdout",
     "output_type": "stream",
     "text": [
      "sound3.flac - средняя громкость: 0.39253; смещение: 0.00073\n",
      "f1 sound2.flac - средняя громкость: 0.00451; смещение: 0.00015\n",
      "Snow Samples.aif - средняя громкость: 0.09561; смещение: 3e-05\n",
      "bells full reverb lowdiff transient.flac - средняя громкость: 0.02112; смещение: 5e-05\n",
      "bells full autom.flac - средняя громкость: 0.02803; смещение: -0.00011\n",
      "Full piano.flac - средняя громкость: 0.08326; смещение: -2e-05\n",
      "texture rev.flac - средняя громкость: 0.11854; смещение: 0.00014\n",
      "bells full TALreverb.flac - средняя громкость: 0.04408; смещение: 1e-05\n",
      "Part1 piano no reverb.flac - средняя громкость: 0.12054; смещение: 5e-05\n",
      "f1 sound1.wav - средняя громкость: 0.04083; смещение: -0.00132\n"
     ]
    }
   ],
   "source": [
    "files=au.get(\"SELECT filename, preview FROM audiofiles ORDER BY probe_score DESC LIMIT 10\")\n",
    "import numpy as np\n",
    "for i in files:\n",
    "    try: audio,samplerate=au.audio2numpy(i[1]) \n",
    "    except:continue\n",
    "    print(f'{i[0]} - средняя громкость: {round(np.average(np.absolute(audio)), 5)}; смещение: {round(np.average(audio),5)}')\n"
   ]
  },
  {
   "cell_type": "code",
   "execution_count": 56,
   "metadata": {},
   "outputs": [
    {
     "name": "stdout",
     "output_type": "stream",
     "text": [
      "Начинаем\n",
      "Подключаемся к базе данных\n",
      "Записывается .csv файл pandas.csv\n"
     ]
    },
    {
     "data": {
      "text/html": [
       "<div>\n",
       "<style scoped>\n",
       "    .dataframe tbody tr th:only-of-type {\n",
       "        vertical-align: middle;\n",
       "    }\n",
       "\n",
       "    .dataframe tbody tr th {\n",
       "        vertical-align: top;\n",
       "    }\n",
       "\n",
       "    .dataframe thead th {\n",
       "        text-align: right;\n",
       "    }\n",
       "</style>\n",
       "<table border=\"1\" class=\"dataframe\">\n",
       "  <thead>\n",
       "    <tr style=\"text-align: right;\">\n",
       "      <th></th>\n",
       "      <th>sample_rate</th>\n",
       "      <th>bit_rate</th>\n",
       "      <th>channels</th>\n",
       "      <th>duration</th>\n",
       "      <th>probe_score</th>\n",
       "      <th>size</th>\n",
       "    </tr>\n",
       "  </thead>\n",
       "  <tbody>\n",
       "    <tr>\n",
       "      <th>sample_rate</th>\n",
       "      <td>1.000000</td>\n",
       "      <td>0.255207</td>\n",
       "      <td>0.329203</td>\n",
       "      <td>0.160143</td>\n",
       "      <td>-0.043625</td>\n",
       "      <td>0.462287</td>\n",
       "    </tr>\n",
       "    <tr>\n",
       "      <th>bit_rate</th>\n",
       "      <td>0.255207</td>\n",
       "      <td>1.000000</td>\n",
       "      <td>-0.029736</td>\n",
       "      <td>0.097796</td>\n",
       "      <td>0.054520</td>\n",
       "      <td>0.340801</td>\n",
       "    </tr>\n",
       "    <tr>\n",
       "      <th>channels</th>\n",
       "      <td>0.329203</td>\n",
       "      <td>-0.029736</td>\n",
       "      <td>1.000000</td>\n",
       "      <td>0.008481</td>\n",
       "      <td>-0.046921</td>\n",
       "      <td>-0.036510</td>\n",
       "    </tr>\n",
       "    <tr>\n",
       "      <th>duration</th>\n",
       "      <td>0.160143</td>\n",
       "      <td>0.097796</td>\n",
       "      <td>0.008481</td>\n",
       "      <td>1.000000</td>\n",
       "      <td>-0.546040</td>\n",
       "      <td>0.628107</td>\n",
       "    </tr>\n",
       "    <tr>\n",
       "      <th>probe_score</th>\n",
       "      <td>-0.043625</td>\n",
       "      <td>0.054520</td>\n",
       "      <td>-0.046921</td>\n",
       "      <td>-0.546040</td>\n",
       "      <td>1.000000</td>\n",
       "      <td>-0.054755</td>\n",
       "    </tr>\n",
       "    <tr>\n",
       "      <th>size</th>\n",
       "      <td>0.462287</td>\n",
       "      <td>0.340801</td>\n",
       "      <td>-0.036510</td>\n",
       "      <td>0.628107</td>\n",
       "      <td>-0.054755</td>\n",
       "      <td>1.000000</td>\n",
       "    </tr>\n",
       "  </tbody>\n",
       "</table>\n",
       "</div>"
      ],
      "text/plain": [
       "             sample_rate  bit_rate  channels  duration  probe_score      size\n",
       "sample_rate     1.000000  0.255207  0.329203  0.160143    -0.043625  0.462287\n",
       "bit_rate        0.255207  1.000000 -0.029736  0.097796     0.054520  0.340801\n",
       "channels        0.329203 -0.029736  1.000000  0.008481    -0.046921 -0.036510\n",
       "duration        0.160143  0.097796  0.008481  1.000000    -0.546040  0.628107\n",
       "probe_score    -0.043625  0.054520 -0.046921 -0.546040     1.000000 -0.054755\n",
       "size            0.462287  0.340801 -0.036510  0.628107    -0.054755  1.000000"
      ]
     },
     "execution_count": 56,
     "metadata": {},
     "output_type": "execute_result"
    }
   ],
   "source": [
    "%run -i audiodb --csv=\"pandas.csv\" --columns \"filename, format_name, sample_rate, bit_rate, channels, duration,  probe_score, size\"\n",
    "import pandas as pd\n",
    "dataset=pd.read_csv('pandas.csv')\n",
    "dataset.corr(numeric_only=True)"
   ]
  },
  {
   "cell_type": "code",
   "execution_count": 57,
   "metadata": {},
   "outputs": [
    {
     "name": "stdout",
     "output_type": "stream",
     "text": [
      "Начинаем\n",
      "Подключаемся к базе данных\n",
      "Записывается .csv файл pandas.csv\n"
     ]
    },
    {
     "data": {
      "text/plain": [
       "<AxesSubplot: xlabel='bit_rate', ylabel='size'>"
      ]
     },
     "execution_count": 57,
     "metadata": {},
     "output_type": "execute_result"
    },
    {
     "data": {
      "image/png": "[encoded data removed]",
      "text/plain": [
       "<Figure size 640x480 with 1 Axes>"
      ]
     },
     "metadata": {},
     "output_type": "display_data"
    }
   ],
   "source": [
    "%run -i audiodb --csv=\"pandas.csv\" --columns \"filename, format_name, sample_rate, bit_rate, channels, duration,  probe_score, size\"\n",
    "import pandas as pd\n",
    "dataset=pd.read_csv('pandas.csv')\n",
    "dataset.corr(numeric_only=True)\n",
    "dataset.plot(kind = 'scatter', x = 'bit_rate', y = 'size')"
   ]
  },
  {
   "cell_type": "code",
   "execution_count": 58,
   "metadata": {},
   "outputs": [
    {
     "name": "stdout",
     "output_type": "stream",
     "text": [
      "Начинаем\n",
      "Подключаемся к базе данных\n",
      "Записывается .csv файл pandas.csv\n"
     ]
    },
    {
     "data": {
      "text/plain": [
       "<AxesSubplot: ylabel='Density'>"
      ]
     },
     "execution_count": 58,
     "metadata": {},
     "output_type": "execute_result"
    },
    {
     "data": {
      "image/png": "[encoded data removed]",
      "text/plain": [
       "<Figure size 640x480 with 1 Axes>"
      ]
     },
     "metadata": {},
     "output_type": "display_data"
    }
   ],
   "source": [
    "%run -i audiodb --csv=\"pandas.csv\" --columns \"duration\"\n",
    "import pandas as pd\n",
    "dataset=pd.read_csv('pandas.csv')\n",
    "dataset.plot.kde(xlim=0)"
   ]
  },
  {
   "cell_type": "code",
   "execution_count": 59,
   "metadata": {},
   "outputs": [
    {
     "name": "stdout",
     "output_type": "stream",
     "text": [
      "Начинаем\n",
      "Подключаемся к базе данных\n",
      "Записывается .csv файл matplotlib.csv\n"
     ]
    },
    {
     "data": {
      "text/plain": [
       "<function matplotlib.pyplot.show(close=None, block=None)>"
      ]
     },
     "execution_count": 59,
     "metadata": {},
     "output_type": "execute_result"
    },
    {
     "data": {
      "image/png": "[encoded data removed]",
      "text/plain": [
       "<Figure size 640x480 with 1 Axes>"
      ]
     },
     "metadata": {},
     "output_type": "display_data"
    }
   ],
   "source": [
    "%run -i audiodb --csv=\"matplotlib.csv\" --columns \"format_name\"\n",
    "import matplotlib.pyplot as plt, csv, numpy as np\n",
    "with open('matplotlib.csv', newline='') as csvf:\n",
    "    data=list(i[0] for i in list(csv.reader(csvf, delimiter=' ', quotechar='|')))[1:]\n",
    "values, counts = np.unique(data, return_counts=True)\n",
    "plt.pie(counts, labels=values)\n",
    "plt.show"
   ]
  },
  {
   "cell_type": "code",
   "execution_count": 103,
   "metadata": {},
   "outputs": [
    {
     "name": "stdout",
     "output_type": "stream",
     "text": [
      "Начинаем\n",
      "Подключаемся к базе данных\n",
      "Записывается .csv файл pandas.csv\n"
     ]
    },
    {
     "data": {
      "text/plain": [
       "<AxesSubplot: >"
      ]
     },
     "execution_count": 103,
     "metadata": {},
     "output_type": "execute_result"
    },
    {
     "data": {
      "image/png": "[encoded data removed]",
      "text/plain": [
       "<Figure size 640x480 with 1 Axes>"
      ]
     },
     "metadata": {},
     "output_type": "display_data"
    }
   ],
   "source": [
    "%run -i audiodb --csv=\"pandas.csv\" --columns \"sample_rate\"\n",
    "import pandas as pd\n",
    "import matplotlib.pyplot as plt\n",
    "dataset=pd.read_csv('pandas.csv')\n",
    "pd.value_counts(dataset['sample_rate']).plot.bar()\n"
   ]
  }
 ],
 "metadata": {
  "kernelspec": {
   "display_name": "audio310",
   "language": "python",
   "name": "python3"
  },
  "language_info": {
   "codemirror_mode": {
    "name": "ipython",
    "version": 3
   },
   "file_extension": ".py",
   "mimetype": "text/x-python",
   "name": "python",
   "nbconvert_exporter": "python",
   "pygments_lexer": "ipython3",
   "version": "3.10.8"
  },
  "orig_nbformat": 4,
  "vscode": {
   "interpreter": {
    "hash": "b64dfde5b5eea38140c28e0a3b4c0e991703864ea69ddcf0068777b77797cd12"
   }
  }
 },
 "nbformat": 4,
 "nbformat_minor": 2
}
