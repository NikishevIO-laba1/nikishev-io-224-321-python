{
 "cells": [
  {
   "cell_type": "markdown",
   "metadata": {},
   "source": [
    "# Форматирование строк\n",
    "\n",
    "* конкатенация строк\n",
    "* строковые методы format\n",
    "* %- форматирование\n",
    "* f-строки\n",
    "* templete  -строки"
   ]
  },
  {
   "cell_type": "code",
   "execution_count": 1,
   "metadata": {},
   "outputs": [
    {
     "name": "stdout",
     "output_type": "stream",
     "text": [
      "привет меня зовут строка2 мне1 лет\n"
     ]
    }
   ],
   "source": [
    "print('привет меня зовут ' + 'строка2 '+\"мне\"+ str(1) + \" лет\")"
   ]
  },
  {
   "cell_type": "code",
   "execution_count": 12,
   "metadata": {},
   "outputs": [
    {
     "name": "stdout",
     "output_type": "stream",
     "text": [
      "привет.{'катя'}\n",
      "привет меня зовтукатя мне19 лет\n",
      "привет меня зовтукатя,катя мне19 лет\n",
      "pi=3.14\n",
      "pi=3.14\n",
      "буквы:e ,w,q \n"
     ]
    }
   ],
   "source": [
    "print(\"привет.{}\".format({'катя'}))\n",
    "print('привет меня зовту{} мне{} лет'.format('катя', 19))\n",
    "print('привет меня зовту{0},{0} мне{1} лет'.format('катя', 19))\n",
    "print(\"{}={}\".format(\"pi\" ,3.14))\n",
    "print(\"{var}={value}\".format(var=\"pi\" ,value=3.14))\n",
    "print(\"буквы:{2} ,{1},{0} \".format(*'qwerty'))\n"
   ]
  },
  {
   "cell_type": "code",
   "execution_count": 11,
   "metadata": {},
   "outputs": [
    {
     "name": "stdout",
     "output_type": "stream",
     "text": [
      "q w e r t y\n"
     ]
    }
   ],
   "source": [
    "print(*'qwerty')"
   ]
  },
  {
   "cell_type": "markdown",
   "metadata": {},
   "source": [
    "## %-форматирования\n",
    "синатксис: %[(флаг)][ширина][точность]тип\n",
    "\n",
    "%d, %i, %u - ИНТ\n",
    "%f - ФЛОАТ\n",
    "%s - СТР"
   ]
  },
  {
   "cell_type": "code",
   "execution_count": 26,
   "metadata": {},
   "outputs": [
    {
     "name": "stdout",
     "output_type": "stream",
     "text": [
      "col_12345\n",
      "автобус# 32 \n",
      "   25\n",
      "-   25\n",
      "p= 3.141500\n",
      "p= 3.1415\n",
      "p= 3.142\n"
     ]
    }
   ],
   "source": [
    "print('col_%d' %12345)\n",
    "print(\"%s#% d \" %(\"автобус\",32))\n",
    "\n",
    "#ширина(Вырванивание)\n",
    "print('%5d'%25)\n",
    "print('-%5d'%25)\n",
    "\n",
    "# точность(математическое округление )\n",
    "print('p= %f'%3.1415)\n",
    "print('p= %.4f'%3.1415)\n",
    "print('p= %.3f'%3.1415)"
   ]
  },
  {
   "cell_type": "markdown",
   "metadata": {},
   "source": [
    "## f-sтроки (интерполированные строки)\n"
   ]
  },
  {
   "cell_type": "code",
   "execution_count": 31,
   "metadata": {},
   "outputs": [
    {
     "name": "stdout",
     "output_type": "stream",
     "text": [
      "я ВАНЯ\n",
      "4\n"
     ]
    }
   ],
   "source": [
    "NAME=\"ВАНЯ\"\n",
    "print(f'я {NAME}')\n",
    "\n",
    "a=2\n",
    "b=4\n",
    "print(f\"{a if a>b else b}\")"
   ]
  },
  {
   "cell_type": "code",
   "execution_count": 35,
   "metadata": {},
   "outputs": [
    {
     "name": "stdout",
     "output_type": "stream",
     "text": [
      "Привет\n",
      "       Привет       \n",
      "              Привет\n",
      "Привет              \n",
      "_______Привет_______\n",
      "______________Привет\n",
      "Привет______________\n"
     ]
    }
   ],
   "source": [
    "#f-stroki с вместимы с mini-language\n",
    "print(f'{\"Привет\"}')\n",
    "print(f'{\"Привет\":^20}')\n",
    "print(f'{\"Привет\":>20}')\n",
    "print(f'{\"Привет\":<20}')\n",
    "print(f'{\"Привет\":_^20}')\n",
    "print(f'{\"Привет\":_>20}')\n",
    "print(f'{\"Привет\":_<20}')"
   ]
  },
  {
   "cell_type": "code",
   "execution_count": 38,
   "metadata": {},
   "outputs": [
    {
     "name": "stdout",
     "output_type": "stream",
     "text": [
      "11111111\n",
      "0b11111111\n",
      "ff\n",
      "0xff\n",
      "377\n",
      "0o377\n"
     ]
    }
   ],
   "source": [
    "# двоичная система счисления\n",
    "print(f\"{255:b}\")\n",
    "print(f\"{255:#b}\")\n",
    "# шестиричная система счисления\n",
    "print(f\"{255:x}\")\n",
    "print(f\"{255:#x}\")\n",
    "# восьмиринчая система счисления\n",
    "print(f\"{255:o}\")\n",
    "print(f\"{255:#o}\")"
   ]
  },
  {
   "cell_type": "code",
   "execution_count": 42,
   "metadata": {},
   "outputs": [
    {
     "name": "stdout",
     "output_type": "stream",
     "text": [
      "00255\n",
      "00255\n",
      "__255\n",
      "1_232_567\n"
     ]
    }
   ],
   "source": [
    "#ведущиенули\n",
    "print(f'{255:05}')\n",
    "print(f'{255:0=5}')\n",
    "print(f'{255:_=5}')\n",
    "#Тесячный разедлитль\n",
    "print(f'{1232567:_}')"
   ]
  },
  {
   "cell_type": "markdown",
   "metadata": {},
   "source": [
    "## template - строки"
   ]
  },
  {
   "cell_type": "code",
   "execution_count": 44,
   "metadata": {},
   "outputs": [
    {
     "name": "stdout",
     "output_type": "stream",
     "text": [
      "Меня зовут Сергей. Мне 100 лет.\n"
     ]
    }
   ],
   "source": [
    "from string import Template\n",
    "name='Сергей'\n",
    "age=100\n",
    "v=Template('Меня зовут $name. Мне $age лет.')\n",
    "print(v.substitute(name=name, age=age))"
   ]
  },
  {
   "cell_type": "markdown",
   "metadata": {},
   "source": [
    "# HW:\n",
    "- придумать свои примеры с minilanguage "
   ]
  }
 ],
 "metadata": {
  "kernelspec": {
   "display_name": "Python 3.9.13 ('base')",
   "language": "python",
   "name": "python3"
  },
  "language_info": {
   "codemirror_mode": {
    "name": "ipython",
    "version": 3
   },
   "file_extension": ".py",
   "mimetype": "text/x-python",
   "name": "python",
   "nbconvert_exporter": "python",
   "pygments_lexer": "ipython3",
   "version": "3.9.13"
  },
  "orig_nbformat": 4,
  "vscode": {
   "interpreter": {
    "hash": "da47dba4fdb012f89fef566ccf478ca86c0463d88e8a4a0c0c15f75bc10dc932"
   }
  }
 },
 "nbformat": 4,
 "nbformat_minor": 2
}
