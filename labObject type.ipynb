{
 "cells": [
  {
   "cell_type": "markdown",
   "metadata": {},
   "source": [
    "# типы  данных"
   ]
  },
  {
   "cell_type": "markdown",
   "metadata": {},
   "source": [
    "неизменяемы immutable - int ,float, tuple, str\n",
    "имзеняемые  mutable -list,set ,..."
   ]
  },
  {
   "cell_type": "code",
   "execution_count": 1,
   "metadata": {},
   "outputs": [],
   "source": [
    "#id() - вернуть идентификатор объекта в виде целого числа\n",
    "#type() вернуть тип объекта"
   ]
  },
  {
   "cell_type": "code",
   "execution_count": 7,
   "metadata": {},
   "outputs": [
    {
     "name": "stdout",
     "output_type": "stream",
     "text": [
      "140732533167176\n"
     ]
    }
   ],
   "source": [
    "ф=10\n",
    "print(id(ф))\n"
   ]
  },
  {
   "cell_type": "code",
   "execution_count": 11,
   "metadata": {},
   "outputs": [
    {
     "name": "stdout",
     "output_type": "stream",
     "text": [
      "140732533167176\n",
      "140732533167176\n",
      "140732533167176\n",
      "140732533167656\n"
     ]
    }
   ],
   "source": [
    "a=10\n",
    "b=a\n",
    "print(id(a))\n",
    "print(id(b))\n",
    "b=25\n",
    "print(id(a))\n",
    "print(id(b))"
   ]
  },
  {
   "cell_type": "code",
   "execution_count": 13,
   "metadata": {},
   "outputs": [
    {
     "name": "stdout",
     "output_type": "stream",
     "text": [
      "2006509711664\n",
      "2006509711664\n",
      "2006509711664\n"
     ]
    }
   ],
   "source": [
    "a=\"привет\"\n",
    "b=a\n",
    "c=a[:] #ссылка потомучто это неизменяемый объект\n",
    "print(id(a)) \n",
    "print(id(b))\n",
    "print(id(c))"
   ]
  },
  {
   "cell_type": "code",
   "execution_count": null,
   "metadata": {},
   "outputs": [],
   "source": []
  }
 ],
 "metadata": {
  "kernelspec": {
   "display_name": "Python 3.11.0 64-bit",
   "language": "python",
   "name": "python3"
  },
  "language_info": {
   "codemirror_mode": {
    "name": "ipython",
    "version": 3
   },
   "file_extension": ".py",
   "mimetype": "text/x-python",
   "name": "python",
   "nbconvert_exporter": "python",
   "pygments_lexer": "ipython3",
   "version": "3.11.0"
  },
  "orig_nbformat": 4,
  "vscode": {
   "interpreter": {
    "hash": "a58fdbb820b6388dabb363d08e88706fd2ada4afdea43b7e9668847127041129"
   }
  }
 },
 "nbformat": 4,
 "nbformat_minor": 2
}
