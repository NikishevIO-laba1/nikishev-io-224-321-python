{
 "cells": [
  {
   "cell_type": "markdown",
   "metadata": {},
   "source": [
    "# Строка (str) \n",
    "\n",
    "строка (str) - встроенный изменяемый тип дпнных, который предоставляет последовательность символов."
   ]
  },
  {
   "cell_type": "code",
   "execution_count": 6,
   "metadata": {},
   "outputs": [
    {
     "name": "stdout",
     "output_type": "stream",
     "text": [
      "visual Studio codevisual Studio codevisual Studio code\n",
      "hihihi\n",
      "18\n"
     ]
    },
    {
     "data": {
      "text/plain": [
       "'visual Studio code'"
      ]
     },
     "execution_count": 6,
     "metadata": {},
     "output_type": "execute_result"
    }
   ],
   "source": [
    "s=\"visual Studio code\"\n",
    "print(s*3)\n",
    "print('hi'*3)\n",
    "print(len(s))\n",
    "s"
   ]
  },
  {
   "cell_type": "code",
   "execution_count": 21,
   "metadata": {},
   "outputs": [
    {
     "name": "stdout",
     "output_type": "stream",
     "text": [
      "VISUAL STUDIO CODE\n",
      "visual studio code\n",
      "Visual Studio Code\n",
      "VISUAL sTUDIO CODE\n",
      "Visual studio code\n",
      "......visual Studio code......\n",
      "visual Studio code............\n",
      "............visual Studio code\n",
      "000000000000visual Studio code\n"
     ]
    }
   ],
   "source": [
    "print(s.upper())\n",
    "print(s.lower())\n",
    "print(s.lower().title())\n",
    "print(s.swapcase())\n",
    "print(s.capitalize())\n",
    "print(s.center(30,'.'))\n",
    "print(s.ljust(30,'.'))\n",
    "print(s.rjust(30,'.'))\n",
    "print(s.zfill(30))\n"
   ]
  },
  {
   "cell_type": "code",
   "execution_count": 30,
   "metadata": {},
   "outputs": [
    {
     "name": "stdout",
     "output_type": "stream",
     "text": [
      "2\n",
      "6\n",
      "-1\n",
      "6\n",
      "13\n",
      "True\n",
      "True\n"
     ]
    }
   ],
   "source": [
    "print(s.count(' '))\n",
    "print(s.index(' ')) # если не найдено то error\n",
    "print(s.find('ы')) # если не найдено то -1\n",
    "print(s.find(' '))\n",
    "print(s.rfind(' '))\n",
    "print(s.startswith('vi'))\n",
    "print(s.endswith('code'))"
   ]
  },
  {
   "cell_type": "code",
   "execution_count": 33,
   "metadata": {},
   "outputs": [
    {
     "name": "stdout",
     "output_type": "stream",
     "text": [
      "True\n",
      "False\n",
      "False\n"
     ]
    }
   ],
   "source": [
    "# проверки\n",
    "print('Qwerty123'.isalnum()) # true если буквы или цифрры\n",
    "print('Qwerty123'.isalpha()) # true если буквы\n",
    "print('Qwerty123'.isdigit()) # true если цифры"
   ]
  },
  {
   "cell_type": "code",
   "execution_count": 42,
   "metadata": {},
   "outputs": [
    {
     "name": "stdout",
     "output_type": "stream",
     "text": [
      "('vis', 'u', 'al Studio code')\n",
      "('denis4hw', '@', 'gmail.com')\n"
     ]
    },
    {
     "data": {
      "text/plain": [
       "4"
      ]
     },
     "execution_count": 42,
     "metadata": {},
     "output_type": "execute_result"
    }
   ],
   "source": [
    "print(s.partition('u'))\n",
    "print(\"denis4hw@gmail.com\".partition('@')\n",
    ")\n"
   ]
  },
  {
   "cell_type": "code",
   "execution_count": 45,
   "metadata": {},
   "outputs": [
    {
     "name": "stdout",
     "output_type": "stream",
     "text": [
      "['visual', 'Studio', 'code']\n",
      "['visual Studio code']\n",
      "visual___Studio___code\n"
     ]
    }
   ],
   "source": [
    "print(s.split())\n",
    "print(s.splitlines())\n",
    "print(s.replace(' ', '___'))"
   ]
  },
  {
   "cell_type": "code",
   "execution_count": 53,
   "metadata": {},
   "outputs": [
    {
     "name": "stdout",
     "output_type": "stream",
     "text": [
      "True\n",
      "False\n"
     ]
    }
   ],
   "source": [
    "print(\"Studio\" in s)\n",
    "print(not \"Studio\" in s)\n",
    "\n"
   ]
  },
  {
   "cell_type": "code",
   "execution_count": 55,
   "metadata": {},
   "outputs": [
    {
     "name": "stdout",
     "output_type": "stream",
     "text": [
      "v\n",
      "i\n",
      "e\n",
      "d\n"
     ]
    }
   ],
   "source": [
    "3# [ индекс ] -получть значение элемента (символ) по индексу)\n",
    "print (s[0])\n",
    "print(s[1]) \n",
    "print(s[-1]) \n",
    "print(s[-2]) "
   ]
  },
  {
   "cell_type": "code",
   "execution_count": 60,
   "metadata": {},
   "outputs": [
    {
     "name": "stdout",
     "output_type": "stream",
     "text": [
      "visual Studio code\n",
      "sual Studio code\n",
      "isua\n",
      "isua\n",
      "visual Studio c\n",
      "de\n"
     ]
    }
   ],
   "source": [
    "#[start :end ]  - получить срез (slice) \n",
    "print(s[:])\n",
    "print(s[2:])\n",
    "print(s[1:5])\n",
    "print(s[1:5])\n",
    "print(s[:-3])\n",
    "print(s[-2:])"
   ]
  },
  {
   "cell_type": "code",
   "execution_count": 63,
   "metadata": {},
   "outputs": [
    {
     "name": "stdout",
     "output_type": "stream",
     "text": [
      "visual Studio code\n",
      "vsa tdocd\n",
      "edoc oidutS lausiv\n"
     ]
    }
   ],
   "source": [
    "#[start :end :Step]  - получить срез (slice) с заданным шагом \n",
    "print(s[::])\n",
    "print(s[::2])\n",
    "print(s[::-1])\n"
   ]
  },
  {
   "cell_type": "code",
   "execution_count": 66,
   "metadata": {},
   "outputs": [
    {
     "name": "stdout",
     "output_type": "stream",
     "text": [
      "                python           \n",
      "python           \n",
      "                python\n",
      "python\n"
     ]
    }
   ],
   "source": [
    "s = '                python           '\n",
    "print(s)\n",
    "print(s.lstrip())\n",
    "print(s.rstrip())\n",
    "print(s.strip())"
   ]
  },
  {
   "cell_type": "code",
   "execution_count": 68,
   "metadata": {},
   "outputs": [
    {
     "name": "stdout",
     "output_type": "stream",
     "text": [
      "мир труд мйа\n",
      "мир ,труд ,мйа\n"
     ]
    }
   ],
   "source": [
    "print(' '.join([\"мир\", 'труд', 'мйа']))\n",
    "print(' ,'.join([\"мир\", 'труд', 'мйа']))"
   ]
  },
  {
   "cell_type": "markdown",
   "metadata": {},
   "source": [
    "image.png"
   ]
  }
 ],
 "metadata": {
  "kernelspec": {
   "display_name": "Python 3.11.0 64-bit",
   "language": "python",
   "name": "python3"
  },
  "language_info": {
   "codemirror_mode": {
    "name": "ipython",
    "version": 3
   },
   "file_extension": ".py",
   "mimetype": "text/x-python",
   "name": "python",
   "nbconvert_exporter": "python",
   "pygments_lexer": "ipython3",
   "version": "3.11.0"
  },
  "orig_nbformat": 4,
  "vscode": {
   "interpreter": {
    "hash": "a58fdbb820b6388dabb363d08e88706fd2ada4afdea43b7e9668847127041129"
   }
  }
 },
 "nbformat": 4,
 "nbformat_minor": 2
}
