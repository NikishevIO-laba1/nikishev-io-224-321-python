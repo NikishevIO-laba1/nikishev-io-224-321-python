{
 "cells": [
  {
   "cell_type": "code",
   "execution_count": 1,
   "metadata": {},
   "outputs": [],
   "source": [
    "from prettytable import PrettyTable"
   ]
  },
  {
   "cell_type": "code",
   "execution_count": 4,
   "metadata": {},
   "outputs": [
    {
     "name": "stdout",
     "output_type": "stream",
     "text": [
      "+------------+--------------+--------+--------+\n",
      "| Last Name, | First name,  | income |  age   |\n",
      "+------------+--------------+--------+--------+\n",
      "|   Иванов   |     Иван     |  100   | 100000 |\n",
      "|   Петров   |     Петр     |   19   |  100   |\n",
      "|  Сидоров   |    сидор     |   30   | 50000  |\n",
      "+------------+--------------+--------+--------+\n"
     ]
    }
   ],
   "source": [
    "t=PrettyTable()\n",
    "t.field_names=[\"Last Name,\", 'First name, ' ,'income', 'age']\n",
    "t.add_row([\"Иванов\",'Иван',100,100000])\n",
    "t.add_row([\"Петров\",'Петр',19,100])\n",
    "t.add_row([\"Сидоров\",'Ян',30,50000])\n",
    "print(t)"
   ]
  },
  {
   "cell_type": "code",
   "execution_count": 5,
   "metadata": {},
   "outputs": [],
   "source": [
    "t.add_rows([\n",
    "    [\"Янов\", \"Ян\", 1,2],\n",
    "    [\"Орлов\", \"николай\", 10,20],\n",
    "    [\"Александров\", \"Александр\", 100,200],\n",
    "    ])"
   ]
  },
  {
   "cell_type": "code",
   "execution_count": 6,
   "metadata": {},
   "outputs": [
    {
     "data": {
      "text/html": [
       "<table>\n",
       "    <thead>\n",
       "        <tr>\n",
       "            <th>Last Name,</th>\n",
       "            <th>First name, </th>\n",
       "            <th>income</th>\n",
       "            <th>age</th>\n",
       "        </tr>\n",
       "    </thead>\n",
       "    <tbody>\n",
       "        <tr>\n",
       "            <td>Иванов</td>\n",
       "            <td>Иван</td>\n",
       "            <td>100</td>\n",
       "            <td>100000</td>\n",
       "        </tr>\n",
       "        <tr>\n",
       "            <td>Петров</td>\n",
       "            <td>Петр</td>\n",
       "            <td>19</td>\n",
       "            <td>100</td>\n",
       "        </tr>\n",
       "        <tr>\n",
       "            <td>Сидоров</td>\n",
       "            <td>сидор</td>\n",
       "            <td>30</td>\n",
       "            <td>50000</td>\n",
       "        </tr>\n",
       "        <tr>\n",
       "            <td>Янов</td>\n",
       "            <td>Ян</td>\n",
       "            <td>1</td>\n",
       "            <td>2</td>\n",
       "        </tr>\n",
       "        <tr>\n",
       "            <td>Орлов</td>\n",
       "            <td>николай</td>\n",
       "            <td>10</td>\n",
       "            <td>20</td>\n",
       "        </tr>\n",
       "        <tr>\n",
       "            <td>Александров</td>\n",
       "            <td>Александр</td>\n",
       "            <td>100</td>\n",
       "            <td>200</td>\n",
       "        </tr>\n",
       "    </tbody>\n",
       "</table>"
      ],
      "text/plain": [
       "+-------------+--------------+--------+--------+\n",
       "|  Last Name, | First name,  | income |  age   |\n",
       "+-------------+--------------+--------+--------+\n",
       "|    Иванов   |     Иван     |  100   | 100000 |\n",
       "|    Петров   |     Петр     |   19   |  100   |\n",
       "|   Сидоров   |    сидор     |   30   | 50000  |\n",
       "|     Янов    |      Ян      |   1    |   2    |\n",
       "|    Орлов    |   николай    |   10   |   20   |\n",
       "| Александров |  Александр   |  100   |  200   |\n",
       "+-------------+--------------+--------+--------+"
      ]
     },
     "execution_count": 6,
     "metadata": {},
     "output_type": "execute_result"
    }
   ],
   "source": [
    "t"
   ]
  },
  {
   "cell_type": "code",
   "execution_count": 7,
   "metadata": {},
   "outputs": [
    {
     "name": "stdout",
     "output_type": "stream",
     "text": [
      "+-------------+--------------+--------+--------+\n",
      "|  Last Name, | First name,  | income |  age   |\n",
      "+-------------+--------------+--------+--------+\n",
      "|    Иванов   |     Иван     |  100   | 100000 |\n",
      "|    Петров   |     Петр     |   19   |  100   |\n",
      "|   Сидоров   |    сидор     |   30   | 50000  |\n",
      "|     Янов    |      Ян      |   1    |   2    |\n",
      "|    Орлов    |   николай    |   10   |   20   |\n",
      "| Александров |  Александр   |  100   |  200   |\n",
      "+-------------+--------------+--------+--------+\n"
     ]
    }
   ],
   "source": [
    "print(t.get_string())"
   ]
  },
  {
   "cell_type": "code",
   "execution_count": 8,
   "metadata": {},
   "outputs": [
    {
     "data": {
      "text/html": [
       "<table>\n",
       "    <thead>\n",
       "        <tr>\n",
       "            <th>Last Name,</th>\n",
       "            <th>First name, </th>\n",
       "            <th>income</th>\n",
       "            <th>age</th>\n",
       "        </tr>\n",
       "    </thead>\n",
       "    <tbody>\n",
       "        <tr>\n",
       "            <td>Иванов</td>\n",
       "            <td>Иван</td>\n",
       "            <td>100</td>\n",
       "            <td>100000</td>\n",
       "        </tr>\n",
       "        <tr>\n",
       "            <td>Петров</td>\n",
       "            <td>Петр</td>\n",
       "            <td>19</td>\n",
       "            <td>100</td>\n",
       "        </tr>\n",
       "        <tr>\n",
       "            <td>Сидоров</td>\n",
       "            <td>сидор</td>\n",
       "            <td>30</td>\n",
       "            <td>50000</td>\n",
       "        </tr>\n",
       "        <tr>\n",
       "            <td>Янов</td>\n",
       "            <td>Ян</td>\n",
       "            <td>1</td>\n",
       "            <td>2</td>\n",
       "        </tr>\n",
       "        <tr>\n",
       "            <td>Орлов</td>\n",
       "            <td>николай</td>\n",
       "            <td>10</td>\n",
       "            <td>20</td>\n",
       "        </tr>\n",
       "    </tbody>\n",
       "</table>"
      ],
      "text/plain": [
       "+------------+--------------+--------+--------+\n",
       "| Last Name, | First name,  | income |  age   |\n",
       "+------------+--------------+--------+--------+\n",
       "|   Иванов   |     Иван     |  100   | 100000 |\n",
       "|   Петров   |     Петр     |   19   |  100   |\n",
       "|  Сидоров   |    сидор     |   30   | 50000  |\n",
       "|    Янов    |      Ян      |   1    |   2    |\n",
       "|   Орлов    |   николай    |   10   |   20   |\n",
       "+------------+--------------+--------+--------+"
      ]
     },
     "execution_count": 8,
     "metadata": {},
     "output_type": "execute_result"
    }
   ],
   "source": [
    "t2=t\n",
    "t3=t[:-1]\n",
    "t3"
   ]
  },
  {
   "cell_type": "code",
   "execution_count": 10,
   "metadata": {},
   "outputs": [
    {
     "data": {
      "text/html": [
       "<table>\n",
       "    <thead>\n",
       "        <tr>\n",
       "            <th>Last Name,</th>\n",
       "            <th>First name, </th>\n",
       "            <th>income</th>\n",
       "            <th>age</th>\n",
       "        </tr>\n",
       "    </thead>\n",
       "    <tbody>\n",
       "        <tr>\n",
       "            <td>Иванов</td>\n",
       "            <td>Иван</td>\n",
       "            <td>100</td>\n",
       "            <td>100000</td>\n",
       "        </tr>\n",
       "        <tr>\n",
       "            <td>Петров</td>\n",
       "            <td>Петр</td>\n",
       "            <td>19</td>\n",
       "            <td>100</td>\n",
       "        </tr>\n",
       "        <tr>\n",
       "            <td>Сидоров</td>\n",
       "            <td>сидор</td>\n",
       "            <td>30</td>\n",
       "            <td>50000</td>\n",
       "        </tr>\n",
       "        <tr>\n",
       "            <td>Янов</td>\n",
       "            <td>Ян</td>\n",
       "            <td>1</td>\n",
       "            <td>2</td>\n",
       "        </tr>\n",
       "        <tr>\n",
       "            <td>Орлов</td>\n",
       "            <td>николай</td>\n",
       "            <td>10</td>\n",
       "            <td>20</td>\n",
       "        </tr>\n",
       "        <tr>\n",
       "            <td>Александров</td>\n",
       "            <td>Александр</td>\n",
       "            <td>100</td>\n",
       "            <td>200</td>\n",
       "        </tr>\n",
       "    </tbody>\n",
       "</table>"
      ],
      "text/plain": [
       "+-------------+--------------+--------+--------+\n",
       "| Last Name,  | First name,  | income |  age   |\n",
       "+-------------+--------------+--------+--------+\n",
       "| Иванов      |     Иван     |  100   | 100000 |\n",
       "| Петров      |     Петр     |   19   |  100   |\n",
       "| Сидоров     |    сидор     |   30   | 50000  |\n",
       "| Янов        |      Ян      |   1    |   2    |\n",
       "| Орлов       |   николай    |   10   |   20   |\n",
       "| Александров |  Александр   |  100   |  200   |\n",
       "+-------------+--------------+--------+--------+"
      ]
     },
     "execution_count": 10,
     "metadata": {},
     "output_type": "execute_result"
    }
   ],
   "source": [
    "t.align[\"Last Name,\"]='l'\n",
    "t.align[\"age\"]='s'\n",
    "t"
   ]
  },
  {
   "cell_type": "code",
   "execution_count": 11,
   "metadata": {},
   "outputs": [
    {
     "name": "stdout",
     "output_type": "stream",
     "text": [
      "+-------------+--------------+--------+--------+\n",
      "| Last Name,  | First name,  | income |  age   |\n",
      "+-------------+--------------+--------+--------+\n",
      "| Янов        |      Ян      |   1    |   2    |\n",
      "| Орлов       |   николай    |   10   |   20   |\n",
      "| Петров      |     Петр     |   19   |  100   |\n",
      "| Александров |  Александр   |  100   |  200   |\n",
      "| Сидоров     |    сидор     |   30   | 50000  |\n",
      "| Иванов      |     Иван     |  100   | 100000 |\n",
      "+-------------+--------------+--------+--------+\n"
     ]
    }
   ],
   "source": [
    "print(t.get_string(sortby=\"age\"))"
   ]
  }
 ],
 "metadata": {
  "kernelspec": {
   "display_name": "Python 3.11.0 64-bit",
   "language": "python",
   "name": "python3"
  },
  "language_info": {
   "codemirror_mode": {
    "name": "ipython",
    "version": 3
   },
   "file_extension": ".py",
   "mimetype": "text/x-python",
   "name": "python",
   "nbconvert_exporter": "python",
   "pygments_lexer": "ipython3",
   "version": "3.11.0"
  },
  "orig_nbformat": 4,
  "vscode": {
   "interpreter": {
    "hash": "a58fdbb820b6388dabb363d08e88706fd2ada4afdea43b7e9668847127041129"
   }
  }
 },
 "nbformat": 4,
 "nbformat_minor": 2
}
