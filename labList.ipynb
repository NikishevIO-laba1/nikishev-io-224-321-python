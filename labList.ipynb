{
 "cells": [
  {
   "cell_type": "markdown",
   "metadata": {},
   "source": [
    "# список list\n",
    "список упорядоченная структруа изменяемая для хранения любых объектов"
   ]
  },
  {
   "cell_type": "code",
   "execution_count": 16,
   "metadata": {},
   "outputs": [
    {
     "name": "stdout",
     "output_type": "stream",
     "text": [
      "[1, 1, 2, 'aaa', True]\n",
      "[1, 1, 2, 'aaa', True, '123']\n",
      "[1, 1, 2, 'aaa', True, '123', 4, 5]\n",
      "[1, 1, 2, 'aaa', '123', 4, 5]\n",
      "[1, 1, '123', 4]\n",
      "[1, 1, '123', 4, 1, 2, 3]\n",
      "[1, 1, 4, 1, 2, 3]\n",
      "[1, 'sda', 4, 1, 2, 3]\n"
     ]
    }
   ],
   "source": [
    "a=[1,1,2, 'aaa' ,True]\n",
    "print(a)\n",
    "a.append('123')\n",
    "print(a)\n",
    "a=a+[4, 5]\n",
    "print(a)\n",
    "a.pop(4)\n",
    "print(a)\n",
    "a=a[0:2]+a[4:-1]\n",
    "print(a)\n",
    "a.extend((1,2,3))\n",
    "print(a)\n",
    "a.remove('123')\n",
    "print(a)\n",
    "a[1]='sda'\n",
    "print(a)"
   ]
  },
  {
   "cell_type": "code",
   "execution_count": 17,
   "metadata": {},
   "outputs": [
    {
     "data": {
      "text/plain": [
       "['q', 'w', 'e', 'r', 't', 'y', 'u', 'i', 'o', 'p']"
      ]
     },
     "execution_count": 17,
     "metadata": {},
     "output_type": "execute_result"
    }
   ],
   "source": [
    "a=list('qwertyuiop')\n",
    "a"
   ]
  },
  {
   "cell_type": "code",
   "execution_count": 22,
   "metadata": {},
   "outputs": [
    {
     "name": "stdout",
     "output_type": "stream",
     "text": [
      "['city1', 'city2', 'city3', 'city4']\n",
      "city1 | city2 | city3 | city4\n",
      "True\n"
     ]
    }
   ],
   "source": [
    "cities='city1, city2, city3, city4'.split(', ')\n",
    "print(cities)\n",
    "print(' | '.join(cities))\n",
    "\n",
    "print ('city3' in cities)"
   ]
  }
 ],
 "metadata": {
  "kernelspec": {
   "display_name": "Python 3.9.13 ('base')",
   "language": "python",
   "name": "python3"
  },
  "language_info": {
   "codemirror_mode": {
    "name": "ipython",
    "version": 3
   },
   "file_extension": ".py",
   "mimetype": "text/x-python",
   "name": "python",
   "nbconvert_exporter": "python",
   "pygments_lexer": "ipython3",
   "version": "3.9.13"
  },
  "orig_nbformat": 4,
  "vscode": {
   "interpreter": {
    "hash": "da47dba4fdb012f89fef566ccf478ca86c0463d88e8a4a0c0c15f75bc10dc932"
   }
  }
 },
 "nbformat": 4,
 "nbformat_minor": 2
}
