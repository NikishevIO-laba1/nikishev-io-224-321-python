{
 "cells": [
  {
   "cell_type": "markdown",
   "metadata": {},
   "source": [
    "# random - генератор случайных чисел"
   ]
  },
  {
   "cell_type": "code",
   "execution_count": 53,
   "metadata": {},
   "outputs": [
    {
     "name": "stdout",
     "output_type": "stream",
     "text": [
      "5\n"
     ]
    }
   ],
   "source": [
    "print(2+3)"
   ]
  },
  {
   "cell_type": "code",
   "execution_count": 54,
   "metadata": {},
   "outputs": [],
   "source": [
    "import random"
   ]
  },
  {
   "cell_type": "code",
   "execution_count": 55,
   "metadata": {},
   "outputs": [
    {
     "name": "stdout",
     "output_type": "stream",
     "text": [
      "0.45492700451402135\n"
     ]
    }
   ],
   "source": [
    "#Вернуть псевдостлучайное дробной число в интервале [0.0, 1.0)\n",
    "print(random.random())"
   ]
  },
  {
   "cell_type": "code",
   "execution_count": 56,
   "metadata": {},
   "outputs": [
    {
     "name": "stdout",
     "output_type": "stream",
     "text": [
      "889\n",
      "300\n"
     ]
    }
   ],
   "source": [
    "print(random.randint(100,999))\n",
    "\n",
    "print(random.randrange(100,999,100))"
   ]
  },
  {
   "cell_type": "code",
   "execution_count": 57,
   "metadata": {},
   "outputs": [
    {
     "name": "stdout",
     "output_type": "stream",
     "text": [
      "[0, 1, 2, 3, 4, 5, 6, 7, 8, 9]\n",
      "[2, 1, 3, 8, 7, 0, 4, 9, 5, 6]\n"
     ]
    }
   ],
   "source": [
    "numbers=list(range(10))\n",
    "print(numbers)\n",
    "random.shuffle(numbers)\n",
    "print(numbers)\n",
    "#перемешать вернуть случайный элемент с последовательности(строка, список, ...)"
   ]
  },
  {
   "cell_type": "code",
   "execution_count": null,
   "metadata": {},
   "outputs": [],
   "source": []
  },
  {
   "cell_type": "code",
   "execution_count": 58,
   "metadata": {},
   "outputs": [
    {
     "name": "stdout",
     "output_type": "stream",
     "text": [
      "['Р']\n",
      "['В', 'В', 'Р', 'Р', 'Т', 'Т', 'Т', 'П', 'Т', 'И', 'И', 'Т', 'И', 'И', 'Р', 'Е', 'И', 'Т', 'В', 'Р']\n",
      "[6, 1, 8, 1, 1, 0, 6, 9, 7, 9, 3, 6, 7, 0, 2, 6, 9, 7, 6, 3]\n"
     ]
    }
   ],
   "source": [
    "print(random.choices(\"ПРИВЕТ\"))\n",
    "print(random.choices(\"ПРИВЕТ\",k=20))\n",
    "print(random.choices(list(range(10)),k=20))\n"
   ]
  },
  {
   "cell_type": "markdown",
   "metadata": {},
   "source": [
    "# HW\n"
   ]
  },
  {
   "cell_type": "code",
   "execution_count": 59,
   "metadata": {},
   "outputs": [
    {
     "name": "stdout",
     "output_type": "stream",
     "text": [
      "b'\\xcaL\\x8b\\xae'\n",
      "['И', 'Е', 'Т', 'Р']\n",
      "2.205208683643526\n",
      "2.9831968857911004\n"
     ]
    }
   ],
   "source": [
    "# дрмшаняя работа оаставшиеся методы в рандоме\n",
    "\n",
    "print(random.randbytes(4)) #байты \n",
    "print(random.sample(\"ПРИВЕТ\", 4)) #неповторяющиеся элементы списк а\n",
    "print(random.uniform(1, 4)) #случайное float в диапазоне\n",
    "random.seed(100)#задание зерна\n",
    "print(random.triangular(1, 10, 4)) #треугольное распределение, вершина в 4"
   ]
  }
 ],
 "metadata": {
  "kernelspec": {
   "display_name": "Python 3.11.0 64-bit",
   "language": "python",
   "name": "python3"
  },
  "language_info": {
   "codemirror_mode": {
    "name": "ipython",
    "version": 3
   },
   "file_extension": ".py",
   "mimetype": "text/x-python",
   "name": "python",
   "nbconvert_exporter": "python",
   "pygments_lexer": "ipython3",
   "version": "3.11.0"
  },
  "orig_nbformat": 4,
  "vscode": {
   "interpreter": {
    "hash": "a58fdbb820b6388dabb363d08e88706fd2ada4afdea43b7e9668847127041129"
   }
  }
 },
 "nbformat": 4,
 "nbformat_minor": 2
}
