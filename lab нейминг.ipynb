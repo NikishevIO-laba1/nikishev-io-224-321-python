{
 "cells": [
  {
   "cell_type": "markdown",
   "metadata": {},
   "source": [
    "# правильный НЕЙМИНГ"
   ]
  },
  {
   "cell_type": "code",
   "execution_count": 1,
   "metadata": {},
   "outputs": [
    {
     "name": "stdout",
     "output_type": "stream",
     "text": [
      "False\n"
     ]
    }
   ],
   "source": [
    "def pv(v,p):\n",
    "    if p=='f':return v>=56.5\n",
    "    elif p=='m': return v>=61.5\n",
    "print(pv(54, 'm'))"
   ]
  },
  {
   "cell_type": "code",
   "execution_count": 8,
   "metadata": {},
   "outputs": [
    {
     "name": "stdout",
     "output_type": "stream",
     "text": [
      "False\n"
     ]
    }
   ],
   "source": [
    "def old(age:float,sex:str):\n",
    "    '''возвращает True если пенсионер или False, age - возраст, sex - ПОЛ f для женского m для мужского'''\n",
    "    if sex=='f':return age>=56.5\n",
    "    elif sex=='m': return age>=61.5\n",
    "print(old(54, 'm'))\n",
    "print(old(age=54, sex='m'))"
   ]
  }
 ],
 "metadata": {
  "kernelspec": {
   "display_name": "Python 3.11.0 64-bit",
   "language": "python",
   "name": "python3"
  },
  "language_info": {
   "codemirror_mode": {
    "name": "ipython",
    "version": 3
   },
   "file_extension": ".py",
   "mimetype": "text/x-python",
   "name": "python",
   "nbconvert_exporter": "python",
   "pygments_lexer": "ipython3",
   "version": "3.11.0"
  },
  "orig_nbformat": 4,
  "vscode": {
   "interpreter": {
    "hash": "a58fdbb820b6388dabb363d08e88706fd2ada4afdea43b7e9668847127041129"
   }
  }
 },
 "nbformat": 4,
 "nbformat_minor": 2
}
